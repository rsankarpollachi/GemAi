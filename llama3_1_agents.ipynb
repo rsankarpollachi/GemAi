{
  "nbformat": 4,
  "nbformat_minor": 0,
  "metadata": {
    "colab": {
      "provenance": [],
      "include_colab_link": true
    },
    "kernelspec": {
      "name": "python3",
      "display_name": "Python 3"
    },
    "language_info": {
      "name": "python"
    }
  },
  "cells": [
    {
      "cell_type": "markdown",
      "metadata": {
        "id": "view-in-github",
        "colab_type": "text"
      },
      "source": [
        "<a href=\"https://colab.research.google.com/github/rsankarpollachi/GemAi/blob/main/llama3_1_agents.ipynb\" target=\"_parent\"><img src=\"https://colab.research.google.com/assets/colab-badge.svg\" alt=\"Open In Colab\"/></a>"
      ]
    },
    {
      "cell_type": "markdown",
      "source": [
        "# colab.research.google.com https://www.youtube.com/watch?v=1SsPNc2zldM&t=959s "
      ],
      "metadata": {
        "id": "xCak-85EoOnD"
      }
    },
    {
      "cell_type": "code",
      "source": [
        "!pip install groq"
      ],
      "metadata": {
        "id": "_n90Pw1jvv1F"
      },
      "execution_count": null,
      "outputs": []
    },
    {
      "cell_type": "code",
      "source": [
        "from groq import Groq"
      ],
      "metadata": {
        "id": "Aw-wRtGlwItv"
      },
      "execution_count": null,
      "outputs": []
    },
    {
      "cell_type": "code",
      "source": [
        "groq_client = Groq(\n",
        "    api_key=\"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\",\n",
        ")"
      ],
      "metadata": {
        "id": "CQmGyOIIwOcF"
      },
      "execution_count": null,
      "outputs": []
    },
    {
      "cell_type": "markdown",
      "source": [
        "# https://console.groq.com/keys"
      ],
      "metadata": {
        "id": "t_hRzc_D4hfj"
      }
    },
    {
      "cell_type": "code",
      "source": [
        "llama_70B = \"llama-3.1-70b-versatile\"\n",
        "llama_405B = \"llama-3.1-405b-reasoning\""
      ],
      "metadata": {
        "id": "j0krq53Cwrpy"
      },
      "execution_count": null,
      "outputs": []
    },
    {
      "cell_type": "code",
      "source": [
        "chat_completion = groq_client.chat.completions.create(\n",
        "    messages=[\n",
        "        {\n",
        "            \"role\": \"user\",\n",
        "            \"content\": \"What exact models are in the Llama 3.1 family that just released? Be specific.\",\n",
        "        }\n",
        "    ],\n",
        "    model=llama_70B,\n",
        ")\n",
        "\n",
        "print(chat_completion.choices[0].message.content)"
      ],
      "metadata": {
        "colab": {
          "base_uri": "https://localhost:8080/"
        },
        "id": "c16s0D-lwZ5W",
        "outputId": "c1832949-55e8-4e8a-ea3b-db678f84d314"
      },
      "execution_count": null,
      "outputs": [
        {
          "output_type": "stream",
          "name": "stdout",
          "text": [
            "I'm not aware of any information about a \"Llama 3.1 family\" that has just released. I'm a large language model, I don't have have access to real-time information or specific details about upcoming or recently released products.\n",
            "\n",
            "However, I can suggest some possible sources where you may be able to find the information you're looking for:\n",
            "\n",
            "* Official website or press releases from the manufacturer or company that produces the Llama 3.1 family\n",
            "* Tech news websites or blogs that cover the latest releases and updates in the industry\n",
            "* Social media channels or forums where enthusiasts and experts discuss the latest products and technologies\n",
            "\n",
            "If you could provide more context or clarify what you mean by \"Llama 3.1 family\", I may be able to help you better.\n"
          ]
        }
      ]
    },
    {
      "cell_type": "code",
      "source": [
        "!pip install -q together"
      ],
      "metadata": {
        "colab": {
          "base_uri": "https://localhost:8080/"
        },
        "id": "rG8Iz4hbyA3k",
        "outputId": "51b8e36d-9007-44b2-c97b-a23c6e9a4e4d"
      },
      "execution_count": null,
      "outputs": [
        {
          "output_type": "stream",
          "name": "stdout",
          "text": [
            "\u001b[2K   \u001b[90m━━━━━━━━━━━━━━━━━━━━━━━━━━━━━━━━━━━━━━━━\u001b[0m \u001b[32m62.3/62.3 kB\u001b[0m \u001b[31m962.8 kB/s\u001b[0m eta \u001b[36m0:00:00\u001b[0m\n",
            "\u001b[2K   \u001b[90m━━━━━━━━━━━━━━━━━━━━━━━━━━━━━━━━━━━━━━━━\u001b[0m \u001b[32m4.5/4.5 MB\u001b[0m \u001b[31m17.9 MB/s\u001b[0m eta \u001b[36m0:00:00\u001b[0m\n",
            "\u001b[?25h"
          ]
        }
      ]
    },
    {
      "cell_type": "code",
      "source": [
        "from together import Together"
      ],
      "metadata": {
        "id": "772fa1Sxx1u2"
      },
      "execution_count": null,
      "outputs": []
    },
    {
      "cell_type": "markdown",
      "source": [
        "# https://api.together.ai/settings/api-keys"
      ],
      "metadata": {
        "id": "2tYdR1ao4nOF"
      }
    },
    {
      "cell_type": "code",
      "source": [
        "together_client = Together(api_key=\"a163902465092548677597b862a38e1ce507ea0b5631534f1837c94568656994\")"
      ],
      "metadata": {
        "id": "FcXxyIn2x2IP"
      },
      "execution_count": null,
      "outputs": []
    },
    {
      "cell_type": "code",
      "source": [
        "response = together_client.chat.completions.create(\n",
        "    model=\"meta-llama/Meta-Llama-3.1-405B-Instruct-Turbo\",\n",
        "    messages=[\n",
        "        {\n",
        "                \"role\": \"system\",\n",
        "                \"content\": \"you are a helpful assistant. always answer in short. use bullet points.\"\n",
        "        },\n",
        "        {\n",
        "                \"role\": \"user\",\n",
        "                \"content\": \"teach me the basics of Machine Learning. answer in short.\"\n",
        "        }\n",
        "],\n",
        "    max_tokens=699,\n",
        "    temperature=0.11,\n",
        "    top_p=1,\n",
        "    top_k=50,\n",
        "    repetition_penalty=1,\n",
        "    stop=[\"<|eot_id|>\"],\n",
        "    # stream=True\n",
        ")\n",
        "print(response.choices[0].message.content)"
      ],
      "metadata": {
        "colab": {
          "base_uri": "https://localhost:8080/"
        },
        "id": "vL45Zzx0yU-M",
        "outputId": "9764b98b-6646-4d28-a9a5-ee66550fe3af"
      },
      "execution_count": null,
      "outputs": [
        {
          "output_type": "stream",
          "name": "stdout",
          "text": [
            "Here are the basics of Machine Learning:\n",
            "\n",
            "**What is Machine Learning?**\n",
            "* A subset of Artificial Intelligence (AI)\n",
            "* Enables computers to learn from data without being explicitly programmed\n",
            "\n",
            "**Types of Machine Learning:**\n",
            "* **Supervised Learning**: Learn from labeled data\n",
            "* **Unsupervised Learning**: Discover patterns in unlabeled data\n",
            "* **Reinforcement Learning**: Learn from trial and error\n",
            "\n",
            "**Key Concepts:**\n",
            "* **Data**: Input used to train models\n",
            "* **Model**: Mathematical representation of relationships in data\n",
            "* **Training**: Process of adjusting model parameters to fit data\n",
            "* **Prediction**: Using trained model to make predictions on new data\n",
            "\n",
            "**Common Algorithms:**\n",
            "* **Linear Regression**: Predict continuous values\n",
            "* **Decision Trees**: Classify data into categories\n",
            "* **Clustering**: Group similar data points together\n",
            "\n",
            "**Next Steps:**\n",
            "* Choose a programming language (e.g., Python, R)\n",
            "* Explore popular libraries (e.g., scikit-learn, TensorFlow)\n",
            "* Practice with tutorials and projects!\n"
          ]
        }
      ]
    },
    {
      "cell_type": "code",
      "source": [
        "def get_user_input():\n",
        "  user_input = input(\"Please enter the industry or company you want to target: \")\n",
        "  return user_input"
      ],
      "metadata": {
        "id": "bz62Mg0E2zEc"
      },
      "execution_count": null,
      "outputs": []
    },
    {
      "cell_type": "code",
      "source": [
        "!pip install openai"
      ],
      "metadata": {
        "id": "wnhHkWRm21On"
      },
      "execution_count": null,
      "outputs": []
    },
    {
      "cell_type": "code",
      "source": [
        "from openai import OpenAI"
      ],
      "metadata": {
        "id": "TjQrhWpK3sjs"
      },
      "execution_count": null,
      "outputs": []
    },
    {
      "cell_type": "code",
      "source": [
        "openai_client = OpenAI(\n",
        "    api_key=\"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\",\n",
        "    base_url=\"https://api.perplexity.ai\"\n",
        ")"
      ],
      "metadata": {
        "id": "IGPicFt63xcO"
      },
      "execution_count": null,
      "outputs": []
    },
    {
      "cell_type": "code",
      "source": [
        "# chat completion without streaming\n",
        "response = openai_client.chat.completions.create(\n",
        "    model=\"llama-3-sonar-large-32k-online\",\n",
        "    messages=[\n",
        "    {\"role\": \"system\", \"content\": \"You are an AI assistnat. always answer with a concise bullet list.\"},\n",
        "    {\"role\": \"user\", \"content\": \"What exact models are in the Llama 3.1 family that just released? Be specific.\"}\n",
        "    ],\n",
        ")\n",
        "print(response.choices[0].message.content)"
      ],
      "metadata": {
        "colab": {
          "base_uri": "https://localhost:8080/"
        },
        "id": "7S15p89d4RyK",
        "outputId": "80afafd1-0dc1-4fc2-90bf-a8955cdce823"
      },
      "execution_count": null,
      "outputs": [
        {
          "output_type": "stream",
          "name": "stdout",
          "text": [
            "- **Llama 3.1 405B**: The largest open source foundation model with over 400 billion parameters.\n",
            "- **Llama 3.1 70B**: An upgraded version of the 70B model, multilingual with a significantly longer context length of 128K.\n",
            "- **Llama 3.1 8B**: An upgraded version of the 8B model, multilingual with a significantly longer context length of 128K.\n",
            "- **LlamaGuard**: A model designed to prevent the AI models from generating harmful or dangerous content.\n"
          ]
        }
      ]
    },
    {
      "cell_type": "code",
      "source": [
        "def query_agent(target):\n",
        "    response = together_client.chat.completions.create(\n",
        "        model=\"meta-llama/Meta-Llama-3.1-405B-Instruct-Turbo\",\n",
        "        messages=[\n",
        "            {\n",
        "                \"role\": \"system\",\n",
        "                \"content\": \"\"\"You are an AI assistant that writes concise search queries for market research.\n",
        "                Create 4 short search queries based on the given target industry or company.\n",
        "                Query 01: biggest pain points faced by this avatar\n",
        "                Query 02: biggest companies in this industry\n",
        "                Query 03: how companies in this industry get clients\n",
        "                Query 04: where to find companeis in this industry online\n",
        "                IMPORTANT: Respond with only the queries, one per line.\"\"\"\n",
        "            },\n",
        "            {\n",
        "                \"role\": \"user\",\n",
        "                \"content\": f\"Here's the industry / company to perform market research on: #### {target} ####\"\n",
        "            }\n",
        "        ],\n",
        "        max_tokens=150,\n",
        "        temperature=0.7,\n",
        "        top_p=1,\n",
        "        top_k=50,\n",
        "        repetition_penalty=1,\n",
        "        stop=[\"<|eot_id|>\"]\n",
        "    )\n",
        "    queries = response.choices[0].message.content.split('\\n')\n",
        "    return [query.strip() for query in queries if query.strip()]"
      ],
      "metadata": {
        "id": "Rgi9M1Y68DtB"
      },
      "execution_count": null,
      "outputs": []
    },
    {
      "cell_type": "code",
      "source": [
        "generated_queries = agent01(get_user_input())\n",
        "generated_queries"
      ],
      "metadata": {
        "colab": {
          "base_uri": "https://localhost:8080/"
        },
        "id": "OD9dhiMO8EfH",
        "outputId": "a99a6932-a4ef-4557-ad8e-31dbfda45476"
      },
      "execution_count": null,
      "outputs": [
        {
          "name": "stdout",
          "output_type": "stream",
          "text": [
            "Please enter the industry or company you want to target: real estate agents Cape Town\n"
          ]
        },
        {
          "output_type": "execute_result",
          "data": {
            "text/plain": [
              "['biggest pain points faced by real estate agents in Cape Town',\n",
              " 'largest real estate companies in Cape Town',\n",
              " 'how real estate agents in Cape Town find new clients',\n",
              " 'Cape Town real estate agents directory or listings online']"
            ]
          },
          "metadata": {},
          "execution_count": 65
        }
      ]
    },
    {
      "cell_type": "code",
      "source": [
        "def web_search_agent(query):\n",
        "    response = openai_client.chat.completions.create(\n",
        "        model=\"llama-3-sonar-large-32k-online\",\n",
        "        messages=[\n",
        "            {\"role\": \"system\", \"content\": \"You are a web search assistant. Provide a concise summary of the search results.\"},\n",
        "            {\"role\": \"user\", \"content\": f\"Search the web for: {query}\"}\n",
        "        ],\n",
        "    )\n",
        "    return response.choices[0].message.content"
      ],
      "metadata": {
        "id": "XTxeasLzAPQH"
      },
      "execution_count": null,
      "outputs": []
    },
    {
      "cell_type": "code",
      "source": [
        "# Example usage\n",
        "search_results = []\n",
        "for query in generated_queries:\n",
        "    print(\"Searching for...\", query)\n",
        "    result = web_search_agent(query)\n",
        "    search_results.append(result)"
      ],
      "metadata": {
        "id": "29wA8wooAORh"
      },
      "execution_count": null,
      "outputs": []
    },
    {
      "cell_type": "code",
      "source": [
        "search_results"
      ],
      "metadata": {
        "id": "7rbWb4rGCSw9"
      },
      "execution_count": null,
      "outputs": []
    },
    {
      "cell_type": "code",
      "source": [
        "def cold_email_agent(target, search_results):\n",
        "    # Combine all search results into a single string\n",
        "    combined_results = \"\\n\".join(search_results)\n",
        "\n",
        "    response = together_client.chat.completions.create(\n",
        "        model=\"meta-llama/Meta-Llama-3.1-405B-Instruct-Turbo\",\n",
        "        messages=[\n",
        "            {\n",
        "                \"role\": \"system\",\n",
        "                \"content\": \"\"\"You are an expert cold email writer.\n",
        "                Your task is to write concise and personalized cold emails based on the Market Research given to you.\n",
        "                Make sure to utilize all 4 areas of the research I(pain points, companies, clients, and online sources)\n",
        "                Focus on describing what the target avatar will get, add an appealing guarantee.\n",
        "                Keep the email concise and use plain English.\n",
        "                DO NOT OUTPUT ANY OTHER TEXT !!! ONLY THE COLD EMAIL ITSELF!.\n",
        "                \"\"\"\n",
        "            },\n",
        "            {\n",
        "                \"role\": \"user\",\n",
        "                \"content\": f\"Here is the target avatar: {target} \\n Here is the market research: #### {combined_results} #### ONLY OUTPUT THE EMAIL ITSELF. NO OTHER TEXT!!\"\n",
        "            }\n",
        "        ],\n",
        "        max_tokens=500,\n",
        "        temperature=0.1,\n",
        "        top_p=1,\n",
        "        top_k=50,\n",
        "        repetition_penalty=1,\n",
        "        stop=[\"<|eot_id|>\"]\n",
        "    )\n",
        "\n",
        "    return response.choices[0].message.content"
      ],
      "metadata": {
        "id": "hpjmlPuHAtvE"
      },
      "execution_count": null,
      "outputs": []
    },
    {
      "cell_type": "code",
      "source": [
        "user_input = get_user_input()"
      ],
      "metadata": {
        "colab": {
          "base_uri": "https://localhost:8080/"
        },
        "id": "oNghIsz1Dhix",
        "outputId": "7b9fa98d-83a3-4fdd-d63d-9fe4c004a191"
      },
      "execution_count": null,
      "outputs": [
        {
          "name": "stdout",
          "output_type": "stream",
          "text": [
            "Please enter the industry or company you want to target: constructions company in Austin Texas\n"
          ]
        }
      ]
    },
    {
      "cell_type": "code",
      "source": [
        "generated_queries = query_agent(user_input)\n",
        "generated_queries"
      ],
      "metadata": {
        "colab": {
          "base_uri": "https://localhost:8080/"
        },
        "id": "LdocS43EDsFq",
        "outputId": "31d22e68-c6fb-4f2e-c7ea-8d853a23d644"
      },
      "execution_count": null,
      "outputs": [
        {
          "output_type": "execute_result",
          "data": {
            "text/plain": [
              "['biggest pain points faced by construction company owners in Austin Texas',\n",
              " 'largest construction companies in Austin Texas',\n",
              " 'how construction companies in Austin Texas acquire new clients',\n",
              " 'list of construction companies in Austin Texas online directories']"
            ]
          },
          "metadata": {},
          "execution_count": 88
        }
      ]
    },
    {
      "cell_type": "code",
      "source": [
        "# Example usage\n",
        "search_results = []\n",
        "for query in generated_queries:\n",
        "    print(\"Searching for...\", query)\n",
        "    result = web_search_agent(query)\n",
        "    search_results.append(result)"
      ],
      "metadata": {
        "colab": {
          "base_uri": "https://localhost:8080/"
        },
        "id": "g_qGjOjBD02Z",
        "outputId": "46bbb9be-7a57-41ca-b227-0c0002eaa46d"
      },
      "execution_count": null,
      "outputs": [
        {
          "output_type": "stream",
          "name": "stdout",
          "text": [
            "Searching for... biggest pain points faced by construction company owners in Austin Texas\n",
            "Searching for... largest construction companies in Austin Texas\n",
            "Searching for... how construction companies in Austin Texas acquire new clients\n",
            "Searching for... list of construction companies in Austin Texas online directories\n"
          ]
        }
      ]
    },
    {
      "cell_type": "code",
      "source": [
        "# Example usage\n",
        "cold_email = cold_email_agent(user_input, search_results)\n",
        "print(cold_email)"
      ],
      "metadata": {
        "colab": {
          "base_uri": "https://localhost:8080/"
        },
        "id": "bKlUtSZrDLv9",
        "outputId": "0b53f198-c396-47ae-9c00-3e35d841662e"
      },
      "execution_count": null,
      "outputs": [
        {
          "output_type": "stream",
          "name": "stdout",
          "text": [
            "Subject: Boost Your Construction Business in Austin with Proven Solutions\n",
            "\n",
            "Dear [Owner's Name],\n",
            "\n",
            "As a construction company owner in Austin, you're likely no stranger to the challenges of labor shortages, communication breakdowns, and stagnant productivity. But what if you could overcome these hurdles and take your business to the next level?\n",
            "\n",
            "Our team has worked with top construction companies in Austin, including DPR Construction and White Construction, to help them streamline their operations, improve collaboration, and increase their online presence. We'd love to do the same for you.\n",
            "\n",
            "With our expert guidance, you'll get:\n",
            "\n",
            "* A tailored strategy to attract and retain top talent, reducing labor shortages and improving overall productivity\n",
            "* A seamless communication and project management system, ensuring all stakeholders are informed and on track\n",
            "* A robust online presence, complete with a website and social media strategy, to attract new clients and showcase your expertise\n",
            "* Proven marketing strategies to generate new leads and grow your business\n",
            "\n",
            "We're so confident in our approach that we guarantee a 20% increase in productivity and a 15% increase in new leads within the first 6 months of working together.\n",
            "\n",
            "If you're ready to take your construction business to new heights, let's schedule a call to discuss how we can help.\n",
            "\n",
            "Best regards,\n",
            "\n",
            "[Your Name]\n"
          ]
        }
      ]
    },
    {
      "cell_type": "markdown",
      "source": [
        "# ollama.com"
      ],
      "metadata": {
        "id": "Liff-oebGDqi"
      }
    },
    {
      "cell_type": "code",
      "source": [],
      "metadata": {
        "id": "Q6SK8Wk_Exue"
      },
      "execution_count": null,
      "outputs": []
    }
  ]
}
